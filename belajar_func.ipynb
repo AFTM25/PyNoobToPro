{
  "nbformat": 4,
  "nbformat_minor": 0,
  "metadata": {
    "colab": {
      "provenance": [],
      "authorship_tag": "ABX9TyMILyqdRoAbZ2R/Y/WQGkYv",
      "include_colab_link": true
    },
    "kernelspec": {
      "name": "python3",
      "display_name": "Python 3"
    },
    "language_info": {
      "name": "python"
    }
  },
  "cells": [
    {
      "cell_type": "markdown",
      "metadata": {
        "id": "view-in-github",
        "colab_type": "text"
      },
      "source": [
        "<a href=\"https://colab.research.google.com/github/AFTM25/PyNoobToPro/blob/master/belajar_func.ipynb\" target=\"_parent\"><img src=\"https://colab.research.google.com/assets/colab-badge.svg\" alt=\"Open In Colab\"/></a>"
      ]
    },
    {
      "cell_type": "markdown",
      "source": [
        "# Belajar Function pada Python"
      ],
      "metadata": {
        "id": "Snl4gVc0z0cX"
      }
    },
    {
      "cell_type": "markdown",
      "source": [
        "## fungsi dengan mengecek tipe data yang di masukkan pada argument"
      ],
      "metadata": {
        "id": "0kAWyGhFz6bL"
      }
    },
    {
      "cell_type": "code",
      "execution_count": 1,
      "metadata": {
        "colab": {
          "base_uri": "https://localhost:8080/"
        },
        "id": "UuYx37E8zE6X",
        "outputId": "bd64060d-6a27-4b15-9983-30efb74c99b9"
      },
      "outputs": [
        {
          "output_type": "stream",
          "name": "stdout",
          "text": [
            "Data berupa string\n"
          ]
        }
      ],
      "source": [
        "def cek_data(data):\n",
        "    if isinstance(data, float):\n",
        "        print('Data berupa bilangan desimal')\n",
        "    elif isinstance(data, int):\n",
        "        print('Data berupa bilangan bulat')\n",
        "    elif isinstance(data, str):\n",
        "        print('Data berupa string')\n",
        "    else:\n",
        "        print('Kesalahan penanganan')\n",
        "\n",
        "cek_data(\"89\")\n",
        "\n"
      ]
    },
    {
      "cell_type": "markdown",
      "source": [
        "## Arbitrary Positional Arguments"
      ],
      "metadata": {
        "id": "IW-SGnZAhviF"
      }
    },
    {
      "cell_type": "code",
      "source": [
        "# gabung dan proses data\n",
        "\n",
        "def gabung_data(*data):\n",
        "  total = 0\n",
        "  for item in data:\n",
        "    total += sum(item)\n",
        "  return total\n",
        "\n",
        "data1 = [90,55,32]\n",
        "data2 = (88,45,12,90)\n",
        "print(gabung_data(data1, data2))\n",
        "\n",
        "\n"
      ],
      "metadata": {
        "colab": {
          "base_uri": "https://localhost:8080/"
        },
        "id": "MQyPW3TGi6k8",
        "outputId": "8280ced1-e93b-4e72-90dc-caec461501e0"
      },
      "execution_count": 4,
      "outputs": [
        {
          "output_type": "stream",
          "name": "stdout",
          "text": [
            "412\n"
          ]
        }
      ]
    },
    {
      "cell_type": "markdown",
      "source": [
        "## Soal\n"
      ],
      "metadata": {
        "id": "SJRzF5op_UZa"
      }
    },
    {
      "cell_type": "markdown",
      "source": [
        "## Bang Ujang buka warung makan sederhana di kampungnya. Dia pengen bikin sistem kasir otomatis sederhana pakai Python. Tapi dia bingung gimana caranya supaya kasir itu bisa mencatat berapa pun jumlah makanan yang dipesan, karena kadang ada yang pesan 2 item, kadang 5, kadang 10.\n",
        "\n",
        "Misalnya:\n",
        "\n",
        "    Si Rudi cuma pesan “Nasi Goreng”\n",
        "\n",
        "    Si Mira pesan “Nasi Goreng”, “Teh Manis”, “Telur Ceplok”\n",
        "\n",
        "    Si Bambang pesan “Nasi Ayam”, “Es Jeruk”, “Tempe Goreng”, “Kerupuk”, “Sambal”"
      ],
      "metadata": {
        "id": "8NLcX1eO_XED"
      }
    },
    {
      "cell_type": "code",
      "source": [
        "def cetak_pesanan(*pesanan):\n",
        "  for no,menu in enumerate(pesanan):\n",
        "    print(f'Pesanan ke {no+1}. {menu}')\n",
        "\n",
        "cetak_pesanan('Nasi Goreng', 'Mie Ayam', 'Rendang', 'Soto')"
      ],
      "metadata": {
        "colab": {
          "base_uri": "https://localhost:8080/"
        },
        "id": "-shnop2dq0iq",
        "outputId": "af7f3ccc-fce6-4773-c233-99e449811515"
      },
      "execution_count": 7,
      "outputs": [
        {
          "output_type": "stream",
          "name": "stdout",
          "text": [
            "Pesanan ke 1. Nasi Goreng\n",
            "Pesanan ke 2. Mie Ayam\n",
            "Pesanan ke 3. Rendang\n",
            "Pesanan ke 4. Soto\n"
          ]
        }
      ]
    },
    {
      "cell_type": "markdown",
      "source": [
        "## Arbitrary Keyword Arguments, **kwargs"
      ],
      "metadata": {
        "id": "NsPPrDg7IzIp"
      }
    },
    {
      "cell_type": "code",
      "source": [
        "def create_account(**user_info):\n",
        "    for data, user in user_info.items():\n",
        "        print(f'{data.capitalize()} : {user}')\n",
        "\n",
        "create_account(username='udin123', email='udin@gmail.com',age=22,address='Bandung',hoby='Melukis',status='Aktif')"
      ],
      "metadata": {
        "colab": {
          "base_uri": "https://localhost:8080/"
        },
        "id": "M97hMOmNAJ2v",
        "outputId": "d31b71e9-9962-449e-8d02-02aeb324a5e2"
      },
      "execution_count": 8,
      "outputs": [
        {
          "output_type": "stream",
          "name": "stdout",
          "text": [
            "Username : udin123\n",
            "Email : udin@gmail.com\n",
            "Age : 22\n",
            "Address : Bandung\n",
            "Hoby : Melukis\n",
            "Status : Aktif\n"
          ]
        }
      ]
    },
    {
      "cell_type": "code",
      "source": [
        "def menu():\n",
        "  makanan = ['Mie Ayam', 'Nasi Goreng', 'Bakso', 'Rendang', 'Hamburger']\n",
        "  minuman = ['Es teh manis', 'Jus Apel', 'Jus Melon', 'Jus Mangga']\n",
        "  return makanan, minuman\n",
        "\n",
        "def cetak_pesanan():\n",
        "  nama_pelanggan = input('MAsukkan nama pelanggan : ')\n",
        "\n",
        "  menu_makanan, menu_minuman = menu()\n",
        "  print('========== Pilih menu mkanan berikut ==========')\n",
        "\n",
        "  for no, makanan in enumerate(menu_makanan):\n",
        "    print(f'{no+1} : {makanan}')\n",
        "\n",
        "  pilihMenuMakanan = int(input('Pilih menu makanan : '))\n",
        "  match pilihMenuMakanan:\n",
        "    case 1:\n",
        "      pesan = menu_makanan[0]\n",
        "      harga_porsi = 10000\n",
        "    case 2:\n",
        "      pesan = menu_makanan[1]\n",
        "      harga_porsi = 15000\n",
        "    case 3:\n",
        "      pesan = menu_makanan[2]\n",
        "      harga_porsi = 10000\n",
        "    case 4:\n",
        "      pesan = menu_makanan[3]\n",
        "      harga_porsi = 15000\n",
        "\n",
        "  print(f'Pesanan anda adalah {pesan} dengan harga Rp{harga_porsi:,}')\n",
        "\n",
        "  porsi = int(input('Masukkan porsi yang dipesan : '))\n",
        "  total = harga_porsi * porsi\n",
        "  print(f'Total pesanan anda adalah Rp{total:,}')\n",
        "\n",
        "cetak_pesanan()\n"
      ],
      "metadata": {
        "colab": {
          "base_uri": "https://localhost:8080/"
        },
        "id": "iBEpOBuJI4mU",
        "outputId": "e217f531-881f-423f-8b80-6c806c737312"
      },
      "execution_count": 13,
      "outputs": [
        {
          "output_type": "stream",
          "name": "stdout",
          "text": [
            "MAsukkan nama pelanggan : Aditya\n",
            "========== Pilih menu mkanan berikut ==========\n",
            "1 : Mie Ayam\n",
            "2 : Nasi Goreng\n",
            "3 : Bakso\n",
            "4 : Rendang\n",
            "5 : Hamburger\n",
            "Pilih menu makanan : 2\n",
            "Pesanan anda adalah Nasi Goreng dengan harga Rp15,000\n",
            "Masukkan porsi yang dipesan : 2\n",
            "Total pesanan anda adalah Rp30,000\n"
          ]
        }
      ]
    },
    {
      "cell_type": "code",
      "source": [],
      "metadata": {
        "id": "BoMRSB37TiT-"
      },
      "execution_count": null,
      "outputs": []
    }
  ]
}