{
  "nbformat": 4,
  "nbformat_minor": 0,
  "metadata": {
    "colab": {
      "provenance": [],
      "authorship_tag": "ABX9TyOeywBbPnSJ/dinDIE4/Dup",
      "include_colab_link": true
    },
    "kernelspec": {
      "name": "python3",
      "display_name": "Python 3"
    },
    "language_info": {
      "name": "python"
    }
  },
  "cells": [
    {
      "cell_type": "markdown",
      "metadata": {
        "id": "view-in-github",
        "colab_type": "text"
      },
      "source": [
        "<a href=\"https://colab.research.google.com/github/AFTM25/PyNoobToPro/blob/master/belajar_func.ipynb\" target=\"_parent\"><img src=\"https://colab.research.google.com/assets/colab-badge.svg\" alt=\"Open In Colab\"/></a>"
      ]
    },
    {
      "cell_type": "code",
      "execution_count": 1,
      "metadata": {
        "colab": {
          "base_uri": "https://localhost:8080/"
        },
        "id": "UuYx37E8zE6X",
        "outputId": "c49a563a-439e-467f-c4c1-725f15147647"
      },
      "outputs": [
        {
          "output_type": "stream",
          "name": "stdout",
          "text": [
            "Ad Semangat\n",
            "Irawan Semangat\n",
            "Samsudin Semangat\n",
            "Data berupa string\n"
          ]
        }
      ],
      "source": [
        "def cek_data(data):\n",
        "    if isinstance(data, float):\n",
        "        print('Data berupa bilangan desimal')\n",
        "    elif isinstance(data, int):\n",
        "        print('Data berupa bilangan bulat')\n",
        "    elif isinstance(data, str):\n",
        "        print('Data berupa string')\n",
        "    else:\n",
        "        print('Kesalahan penanganan')\n",
        "\n",
        "def meFunc(teks, *nama):\n",
        "    for x in nama:\n",
        "        print(x, teks)\n",
        "\n",
        "meFunc('Semangat', 'Ad', 'Irawan', 'Samsudin')\n",
        "\n",
        "cek_data(\"89\")\n",
        "\n"
      ]
    },
    {
      "cell_type": "code",
      "source": [],
      "metadata": {
        "id": "tbcENsd0zW3B"
      },
      "execution_count": null,
      "outputs": []
    }
  ]
}