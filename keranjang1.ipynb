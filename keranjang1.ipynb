{
  "nbformat": 4,
  "nbformat_minor": 0,
  "metadata": {
    "colab": {
      "provenance": [],
      "authorship_tag": "ABX9TyPFwcfuo1cQbIkLi8ZgrgNq",
      "include_colab_link": true
    },
    "kernelspec": {
      "name": "python3",
      "display_name": "Python 3"
    },
    "language_info": {
      "name": "python"
    }
  },
  "cells": [
    {
      "cell_type": "markdown",
      "metadata": {
        "id": "view-in-github",
        "colab_type": "text"
      },
      "source": [
        "<a href=\"https://colab.research.google.com/github/AFTM25/PyNoobToPro/blob/master/keranjang1.ipynb\" target=\"_parent\"><img src=\"https://colab.research.google.com/assets/colab-badge.svg\" alt=\"Open In Colab\"/></a>"
      ]
    },
    {
      "cell_type": "markdown",
      "source": [
        "# Keranjang Belanja\n"
      ],
      "metadata": {
        "id": "jXOQVZC6b9JF"
      }
    },
    {
      "cell_type": "code",
      "execution_count": 11,
      "metadata": {
        "colab": {
          "base_uri": "https://localhost:8080/"
        },
        "id": "5P1IwQtEXfYH",
        "outputId": "44f7cafe-a480-45ea-f517-673d13dea6af"
      },
      "outputs": [
        {
          "output_type": "stream",
          "name": "stdout",
          "text": [
            "Keranjang milik Anwar memiliki jumlah barang 3\n"
          ]
        }
      ],
      "source": [
        "class KeranjangBelanja:\n",
        "  def __init__(self, namaPembeli):\n",
        "    self.__namaPembeli = namaPembeli\n",
        "    self.__barang = []\n",
        "\n",
        "  @property\n",
        "  def namaPelanggan(self):\n",
        "    return self.__namaPembeli\n",
        "\n",
        "  @property\n",
        "  def barang(self):\n",
        "    return self.__barang\n",
        "\n",
        "  def tambahBarang(self, namaBarang, harga):\n",
        "    self.__barang.append((namaBarang, harga))\n",
        "\n",
        "  def totalBelanja(self):\n",
        "    return sum(harga for _, harga in self.__barang)\n",
        "\n",
        "  def __len__(self):\n",
        "    return len(self.barang)\n",
        "\n",
        "  def __call__(self):\n",
        "    print(f'Nama Pelanggan : {self.__namaPembeli}')\n",
        "    print(f'Barang yang dibeli : ')\n",
        "    for nama,harga in self.__barang:\n",
        "      print(f'\\t\\t{nama} --> Rp{harga:,}')\n",
        "\n",
        "    print(f'Total belanja Rp{self.totalBelanja():,}')\n",
        "\n",
        "  def __str__(self):\n",
        "    return f'Keranjang milik {self.__namaPembeli} memiliki jumlah barang {len(self.__barang)}'\n",
        "\n",
        "keranjang1 = KeranjangBelanja('Anwar')\n",
        "keranjang1.tambahBarang('Indomie', 7000)\n",
        "keranjang1.tambahBarang('Pop Mie', 9000)\n",
        "keranjang1.tambahBarang('Kapal Api', 12000)\n",
        "\n",
        "# keranjang1()\n",
        "\n",
        "print(keranjang1)"
      ]
    },
    {
      "cell_type": "code",
      "source": [],
      "metadata": {
        "id": "gozC76gya1ob"
      },
      "execution_count": null,
      "outputs": []
    }
  ]
}